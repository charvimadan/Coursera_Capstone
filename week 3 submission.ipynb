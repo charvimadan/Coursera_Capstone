{
 "cells": [
  {
   "cell_type": "markdown",
   "metadata": {},
   "source": [
    "<h1>BUSINESS PROBLEM</h1>"
   ]
  },
  {
   "cell_type": "markdown",
   "metadata": {},
   "source": [
    "> The WHO has stated that approximately 1.35 million people die each year as a result of road traffic crashes and cost most countries 3% of their gross domestic product, most of these are caused by cars.Sparks a BIG CONCERN RIGHT? There can be many reasons for car accidents, ranging from our negligence, weather conditions, the timing and many more.But wont it be great if we already know what can cause an accident? and how severe it could be so that we can avoid them at all costs. These accidents not only cause property damage but sometimes injuries and fatalities too.\n",
    "The motive of my project is to find out the reasons and check how severe they can be.  "
   ]
  },
  {
   "cell_type": "markdown",
   "metadata": {},
   "source": [
    "<h1> DATA </h1>"
   ]
  },
  {
   "cell_type": "markdown",
   "metadata": {},
   "source": [
    ">The Accident dataset chosen has a lot of attributes that tell us about the severity of these accidents like Road_type,Speed_limit,Weather_conditions,Light_conditions,Day_of_Week,Special_Conditions_at_Site and a few others that will help us decide the severity of the accidents. Our predictor variable will be 'Accident_Severity' because it is used measure the severity of an accident from 1 to 3 within the dataset.\n",
    "<ul>\n",
    "<li>1:SLIGHT\n",
    "<li>2:SERIOUS\n",
    "<li>3:FATAL\n",
    "</ul>\n",
    "these codes will decide how severe the accident could be given the conditions"
   ]
  },
  {
   "cell_type": "markdown",
   "metadata": {},
   "source": [
    "<H1>METHODOLOGY</H1>\n",
    "UK Road Safety data: Total accident counts with accident severity as Slight, Serious and Fatal Normalized accident counts each month for slight and (Serious and Fatal clubbed) Plotting importance of each feature for considered features\n",
    "\n",
    "Data Pre-processing techniques: The dataset is imputed by replacing NaN and missing values with most frequent values of the corresponding column. All the categorical values have been labeled by integers from 0 to n for each column. Time has been converted to categorial feature with 2 values i.e., daytime and night time.\n",
    "\n",
    "The data is visualized for correlation. Negatively correlated features are selected to be dropped. Feature importance is plotted to visualize and only features with high importance are taken into consideration for predicting accident severity. The multi class label is converted to binary class by merging “Serious” and “Fatal” to Serious class.\n",
    "\n",
    "Feature Selection: The dataset has 34 attributes describing the incident of an accident. There are mixed types of data such as continuous and categorical. Manually dropped few columns due to its inconsistency in values such as Accident ID, and Location ID. For selecting the best features, below functions are used from sklearn library.\n",
    "<br>1.SelectKBest: SelectKBest is a sci-kit learn library provides the k best features by performing statistical tests i.e., chi squared computation between two non-negative features. Using chi squared function filters out the features which are independent of target attribute.\n",
    "<br>2.Recursive Feature Elimination (RFE): RFE runs the defined model by trying out different possible combinations of features, and it removes the features recursively which are not impacting the class label. Logistic regression algorithm is used as a parameter for RFE to decide on features."
   ]
  },
  {
   "cell_type": "code",
   "execution_count": 2,
   "metadata": {},
   "outputs": [],
   "source": [
    "\n",
    "import pandas as pd\n",
    "import numpy as np\n",
    "from sklearn import metrics\n",
    "from sklearn.metrics import classification_report, confusion_matrix  \n"
   ]
  },
  {
   "cell_type": "code",
   "execution_count": 9,
   "metadata": {},
   "outputs": [],
   "source": [
    "df = pd.read_excel(\"/Users/charvimadan/Desktop/python course/Accident_Information.xls\")"
   ]
  },
  {
   "cell_type": "code",
   "execution_count": 12,
   "metadata": {},
   "outputs": [
    {
     "name": "stdout",
     "output_type": "stream",
     "text": [
      "0    64609\n",
      "1      926\n",
      "Name: Carriageway_Hazards, dtype: int64\n"
     ]
    }
   ],
   "source": [
    "encoding = {\n",
    "\"Carriageway_Hazards\": {\"None\": 0, \"Other object on road\": 1, \"Any animal in carriageway (except ridden horse)\": 1,  \"Pedestrian in carriageway - not injured\": 1, \"Previous accident\": 1, \"Vehicle load on road\": 1,  \"Data missing or out of range\": 0  }\n",
    "}\n",
    "df.replace(encoding, inplace=True)\n",
    "print(df['Carriageway_Hazards'].value_counts())"
   ]
  },
  {
   "cell_type": "code",
   "execution_count": 13,
   "metadata": {},
   "outputs": [
    {
     "name": "stdout",
     "output_type": "stream",
     "text": [
      "Daylight                       47489\n",
      "Darkness - lights lit          15895\n",
      "Darkness - no lighting          1613\n",
      "Darkness - lighting unknown      281\n",
      "Darkness - lights unlit          257\n",
      "Name: Light_Conditions, dtype: int64\n",
      "0    47489\n",
      "1    18046\n",
      "Name: Light_Conditions, dtype: int64\n"
     ]
    }
   ],
   "source": [
    "print(df['Light_Conditions'].value_counts())\n",
    "encoding_light = {\"Light_Conditions\": {\"Daylight\": 0, \"Darkness - lights lit\": 1, \"Darkness - no lighting\": 1, \"Darkness - lighting unknown\": 1, \"Darkness - lights unlit\": 1, \"Data missing or out of range\": 0}}\n",
    "df.replace(encoding_light, inplace=True)\n",
    "print(df['Light_Conditions'].value_counts())"
   ]
  },
  {
   "cell_type": "code",
   "execution_count": 14,
   "metadata": {},
   "outputs": [
    {
     "name": "stdout",
     "output_type": "stream",
     "text": [
      "Friday       10672\n",
      "Wednesday    10008\n",
      "Tuesday       9845\n",
      "Thursday      9724\n",
      "Monday        9156\n",
      "Saturday      8896\n",
      "Sunday        7234\n",
      "Name: Day_of_Week, dtype: int64\n",
      "0    49405\n",
      "1    16130\n",
      "Name: Day_of_Week, dtype: int64\n"
     ]
    }
   ],
   "source": [
    "\n",
    "print(df['Day_of_Week'].value_counts())\n",
    "encoding_day_of_week = {\"Day_of_Week\": {\"Saturday\": 1, \"Sunday\": 1, \"Monday\": 0, \"Tuesday\": 0, \"Wednesday\": 0, \"Thursday\": 0, \"Friday\": 0}}\n",
    "df.replace(encoding_day_of_week, inplace=True)\n",
    "print(df['Day_of_Week'].value_counts())"
   ]
  },
  {
   "cell_type": "code",
   "execution_count": 15,
   "metadata": {},
   "outputs": [
    {
     "name": "stdout",
     "output_type": "stream",
     "text": [
      "None                                          64133\n",
      "Roadworks                                       695\n",
      "Oil or diesel                                   215\n",
      "Road surface defective                          121\n",
      "Road sign or marking defective or obscured      117\n",
      "Auto traffic signal - out                       112\n",
      "Mud                                              97\n",
      "Auto signal part defective                       37\n",
      "Data missing or out of range                      8\n",
      "Name: Special_Conditions_at_Site, dtype: int64\n",
      "0    64141\n",
      "1     1394\n",
      "Name: Special_Conditions_at_Site, dtype: int64\n"
     ]
    }
   ],
   "source": [
    "\n",
    "print(df['Special_Conditions_at_Site'].value_counts())\n",
    "encoding_Special_Conditions_at_Site = {\"Special_Conditions_at_Site\": {\"None\": 0, \"Roadworks\": 1, \"Oil or diesel\": 1, \"Mud\": 1, \"Road surface defective\": 1, \"Auto traffic signal - out\": 1, \"Road sign or marking defective or obscured\": 1, \"Auto signal part defective\": 1, \"Data missing or out of range\": 0}}\n",
    "df.replace(encoding_Special_Conditions_at_Site, inplace=True)\n",
    "print(df['Special_Conditions_at_Site'].value_counts())"
   ]
  },
  {
   "cell_type": "code",
   "execution_count": 16,
   "metadata": {},
   "outputs": [
    {
     "data": {
      "text/plain": [
       "1    50153\n",
       "2     6741\n",
       "3     6735\n",
       "4     1906\n",
       "Name: 1st_Road_Class, dtype: int64"
      ]
     },
     "execution_count": 16,
     "metadata": {},
     "output_type": "execute_result"
    }
   ],
   "source": [
    "encoding_1st_road_class = {\"1st_Road_Class\": {\"A\": 1, \"A(M)\": 1, \"B\": 2, \"C\": 3, \"Motorway\": 4, \"Unclassified\": 1}}\n",
    "df.replace(encoding_1st_road_class, inplace=True)\n",
    "df['1st_Road_Class'].value_counts()"
   ]
  },
  {
   "cell_type": "code",
   "execution_count": 17,
   "metadata": {},
   "outputs": [],
   "source": [
    "\n",
    "#replacing 'Data missing or out of range' with most occured value 'Give way or uncontrolled'\n",
    "df['Junction_Control'] = df['Junction_Control'].replace(['Data missing or out of range'], 'Give way or uncontrolled')"
   ]
  },
  {
   "cell_type": "code",
   "execution_count": 18,
   "metadata": {},
   "outputs": [
    {
     "data": {
      "text/plain": [
       "Give way or uncontrolled               55043\n",
       "Auto traffic signal                     9801\n",
       "Stop sign                                431\n",
       "Authorised person                        133\n",
       "Not at junction or within 20 metres      127\n",
       "Name: Junction_Control, dtype: int64"
      ]
     },
     "execution_count": 18,
     "metadata": {},
     "output_type": "execute_result"
    }
   ],
   "source": [
    "df['Junction_Control'].value_counts()"
   ]
  },
  {
   "cell_type": "code",
   "execution_count": 19,
   "metadata": {},
   "outputs": [
    {
     "data": {
      "text/plain": [
       "1    55043\n",
       "2     9801\n",
       "4      431\n",
       "5      133\n",
       "3      127\n",
       "Name: Junction_Control, dtype: int64"
      ]
     },
     "execution_count": 19,
     "metadata": {},
     "output_type": "execute_result"
    }
   ],
   "source": [
    "\n",
    "encoding_junction_detail = {\"Junction_Control\": \n",
    "                            {\"Give way or uncontrolled\": 1,\n",
    "                             \"Auto traffic signal\": 2,\n",
    "                             \"Not at junction or within 20 metres\": 3, \n",
    "                             \"Stop sign\": 4,\n",
    "                             \"Authorised person\": 5,\n",
    "                              }}\n",
    "df.replace(encoding_junction_detail, inplace=True)\n",
    "df['Junction_Control'].value_counts()"
   ]
  },
  {
   "cell_type": "code",
   "execution_count": 20,
   "metadata": {},
   "outputs": [
    {
     "data": {
      "text/plain": [
       "2    23766\n",
       "1    22063\n",
       "3     8856\n",
       "4     4203\n",
       "6     2535\n",
       "5     1462\n",
       "8     1171\n",
       "7      827\n",
       "9      652\n",
       "Name: Junction_Detail, dtype: int64"
      ]
     },
     "execution_count": 20,
     "metadata": {},
     "output_type": "execute_result"
    }
   ],
   "source": [
    "encoding_junction_detail = {\"Junction_Detail\": \n",
    "                            {\"Not at junction or within 20 metres\": 1,\n",
    "                             \"T or staggered junction\": 2,\n",
    "                             \"Crossroads\": 3, \n",
    "                             \"Roundabout\": 4,\n",
    "                             \"Private drive or entrance\": 5,\n",
    "                             \"Other junction\": 6,\n",
    "                             \"Slip road\": 7,\n",
    "                             \"More than 4 arms (not roundabout)\": 8,\n",
    "                             \"Mini-roundabout\": 9,\n",
    "                             \"Data missing or out of range\": 1 }}\n",
    "df.replace(encoding_junction_detail, inplace=True)\n",
    "df['Junction_Detail'].value_counts()"
   ]
  },
  {
   "cell_type": "code",
   "execution_count": 21,
   "metadata": {},
   "outputs": [
    {
     "data": {
      "text/plain": [
       "1    47654\n",
       "2    16871\n",
       "3      672\n",
       "4      284\n",
       "5       54\n",
       "Name: Road_Surface_Conditions, dtype: int64"
      ]
     },
     "execution_count": 21,
     "metadata": {},
     "output_type": "execute_result"
    }
   ],
   "source": [
    "encoding_road_surface_cond = {\"Road_Surface_Conditions\": \n",
    "                            {\"Dry\": 1,\n",
    "                             \"Wet or damp\": 2,\n",
    "                             \"Frost or ice\": 3, \n",
    "                             \"Snow\": 4,\n",
    "                             \"Flood over 3cm. deep\": 5,\n",
    "                             \"Data missing or out of range\": 1 }}\n",
    "df.replace(encoding_road_surface_cond, inplace=True)\n",
    "df['Road_Surface_Conditions'].value_counts()"
   ]
  },
  {
   "cell_type": "code",
   "execution_count": 22,
   "metadata": {},
   "outputs": [
    {
     "data": {
      "text/plain": [
       "1    50127\n",
       "2     9428\n",
       "3     3236\n",
       "4     1716\n",
       "5      520\n",
       "0      508\n",
       "Name: Road_Type, dtype: int64"
      ]
     },
     "execution_count": 22,
     "metadata": {},
     "output_type": "execute_result"
    }
   ],
   "source": [
    "encoding_road_type = {\"Road_Type\": \n",
    "                            {\"Single carriageway\": 1,\n",
    "                             \"Dual carriageway\": 2,\n",
    "                             \"Roundabout\": 3, \n",
    "                             \"One way street\": 4,\n",
    "                             \"Slip road\": 5,\n",
    "                             \"Unknown\": 0,\n",
    "                             \"Data missing or out of range\": 1 }}\n",
    "df.replace(encoding_road_type, inplace=True)\n",
    "df['Road_Type'].value_counts()"
   ]
  },
  {
   "cell_type": "code",
   "execution_count": 23,
   "metadata": {},
   "outputs": [
    {
     "data": {
      "text/plain": [
       "1    52589\n",
       "2    12946\n",
       "Name: Urban_or_Rural_Area, dtype: int64"
      ]
     },
     "execution_count": 23,
     "metadata": {},
     "output_type": "execute_result"
    }
   ],
   "source": [
    "encoding_urban_rural = {\"Urban_or_Rural_Area\": \n",
    "                            {\"Urban\": 1,\n",
    "                             \"Rural\": 2,\n",
    "                             \"Unallocated\": 1 }}\n",
    "df.replace(encoding_urban_rural, inplace=True)\n",
    "df['Urban_or_Rural_Area'].value_counts()"
   ]
  },
  {
   "cell_type": "code",
   "execution_count": 24,
   "metadata": {},
   "outputs": [
    {
     "data": {
      "text/plain": [
       "1    55972\n",
       "2     7570\n",
       "4      658\n",
       "3      578\n",
       "5      458\n",
       "6      243\n",
       "7       56\n",
       "Name: Weather_Conditions, dtype: int64"
      ]
     },
     "execution_count": 24,
     "metadata": {},
     "output_type": "execute_result"
    }
   ],
   "source": [
    "encoding_weather = {\"Weather_Conditions\": \n",
    "                            {\"Fine no high winds\": 1,\n",
    "                             \"Raining no high winds\": 2,\n",
    "                             \"Raining + high winds\": 3,\n",
    "                             \"Fine + high winds\": 4,\n",
    "                             \"Snowing no high winds\": 5,\n",
    "                             \"Fog or mist\": 6,\n",
    "                             \"Snowing + high winds\": 7,\n",
    "                             \"Unknown\": 1,\n",
    "                             \"Other\": 1,\n",
    "                             \"Data missing or out of range\": 1 }}\n",
    "df.replace(encoding_weather, inplace=True)\n",
    "df['Weather_Conditions'].value_counts()"
   ]
  },
  {
   "cell_type": "code",
   "execution_count": 25,
   "metadata": {},
   "outputs": [
    {
     "data": {
      "text/plain": [
       "(array([], dtype=int64),)"
      ]
     },
     "execution_count": 25,
     "metadata": {},
     "output_type": "execute_result"
    }
   ],
   "source": [
    "np.where(np.isnan(df['Speed_limit']))"
   ]
  },
  {
   "cell_type": "code",
   "execution_count": 26,
   "metadata": {},
   "outputs": [],
   "source": [
    "df['Speed_limit'].fillna((df['Speed_limit'].mean()), inplace=True)"
   ]
  },
  {
   "cell_type": "code",
   "execution_count": 27,
   "metadata": {},
   "outputs": [],
   "source": [
    "df['Time'].fillna(0, inplace=True)"
   ]
  },
  {
   "cell_type": "code",
   "execution_count": 28,
   "metadata": {},
   "outputs": [],
   "source": [
    "def period(row):\n",
    "    rdf = []\n",
    "    if(type(row) == float):\n",
    "        row = str(row)\n",
    "        rdf = row.split(\".\")\n",
    "    else:\n",
    "        rdf = str(row).split(\":\"); # day -- 8am-8pm\n",
    "        \n",
    "    hr = rdf[0]\n",
    "    if int(hr) > 8 and int(hr) < 20:\n",
    "        return 1;\n",
    "    else:\n",
    "        return 2;"
   ]
  },
  {
   "cell_type": "code",
   "execution_count": 29,
   "metadata": {},
   "outputs": [],
   "source": [
    "df['Time'] = df['Time'].apply(period)"
   ]
  },
  {
   "cell_type": "code",
   "execution_count": 30,
   "metadata": {},
   "outputs": [],
   "source": [
    "df_train1 = df[['1st_Road_Class','Carriageway_Hazards','Junction_Control','Day_of_Week','Junction_Detail','Light_Conditions','Road_Surface_Conditions','Road_Type','Special_Conditions_at_Site','Speed_limit','Time','Urban_or_Rural_Area','Weather_Conditions','Accident_Severity']]"
   ]
  },
  {
   "cell_type": "code",
   "execution_count": 31,
   "metadata": {},
   "outputs": [],
   "source": [
    "df_slight = df_train1[df_train1['Accident_Severity']=='Slight']"
   ]
  },
  {
   "cell_type": "code",
   "execution_count": 32,
   "metadata": {},
   "outputs": [],
   "source": [
    "df_serious = df_train1[df_train1['Accident_Severity']=='Serious']"
   ]
  },
  {
   "cell_type": "code",
   "execution_count": 33,
   "metadata": {},
   "outputs": [],
   "source": [
    "df_fatal = df_train1[df_train1['Accident_Severity']=='Fatal']"
   ]
  },
  {
   "cell_type": "code",
   "execution_count": 34,
   "metadata": {},
   "outputs": [
    {
     "data": {
      "text/plain": [
       "Serious    8197\n",
       "Name: Accident_Severity, dtype: int64"
      ]
     },
     "execution_count": 34,
     "metadata": {},
     "output_type": "execute_result"
    }
   ],
   "source": [
    "\n",
    "df_serious['Accident_Severity'].value_counts()"
   ]
  },
  {
   "cell_type": "code",
   "execution_count": 35,
   "metadata": {},
   "outputs": [
    {
     "data": {
      "text/html": [
       "<div>\n",
       "<style scoped>\n",
       "    .dataframe tbody tr th:only-of-type {\n",
       "        vertical-align: middle;\n",
       "    }\n",
       "\n",
       "    .dataframe tbody tr th {\n",
       "        vertical-align: top;\n",
       "    }\n",
       "\n",
       "    .dataframe thead th {\n",
       "        text-align: right;\n",
       "    }\n",
       "</style>\n",
       "<table border=\"1\" class=\"dataframe\">\n",
       "  <thead>\n",
       "    <tr style=\"text-align: right;\">\n",
       "      <th></th>\n",
       "      <th>1st_Road_Class</th>\n",
       "      <th>Carriageway_Hazards</th>\n",
       "      <th>Junction_Control</th>\n",
       "      <th>Day_of_Week</th>\n",
       "      <th>Junction_Detail</th>\n",
       "      <th>Light_Conditions</th>\n",
       "      <th>Road_Surface_Conditions</th>\n",
       "      <th>Road_Type</th>\n",
       "      <th>Special_Conditions_at_Site</th>\n",
       "      <th>Speed_limit</th>\n",
       "      <th>Time</th>\n",
       "      <th>Urban_or_Rural_Area</th>\n",
       "      <th>Weather_Conditions</th>\n",
       "      <th>Accident_Severity</th>\n",
       "    </tr>\n",
       "  </thead>\n",
       "  <tbody>\n",
       "    <tr>\n",
       "      <th>5287</th>\n",
       "      <td>1</td>\n",
       "      <td>0</td>\n",
       "      <td>1</td>\n",
       "      <td>0</td>\n",
       "      <td>1</td>\n",
       "      <td>0</td>\n",
       "      <td>1</td>\n",
       "      <td>1</td>\n",
       "      <td>0</td>\n",
       "      <td>30</td>\n",
       "      <td>1</td>\n",
       "      <td>1</td>\n",
       "      <td>1</td>\n",
       "      <td>Slight</td>\n",
       "    </tr>\n",
       "    <tr>\n",
       "      <th>37794</th>\n",
       "      <td>3</td>\n",
       "      <td>0</td>\n",
       "      <td>1</td>\n",
       "      <td>0</td>\n",
       "      <td>1</td>\n",
       "      <td>1</td>\n",
       "      <td>2</td>\n",
       "      <td>1</td>\n",
       "      <td>0</td>\n",
       "      <td>30</td>\n",
       "      <td>1</td>\n",
       "      <td>1</td>\n",
       "      <td>1</td>\n",
       "      <td>Slight</td>\n",
       "    </tr>\n",
       "    <tr>\n",
       "      <th>4561</th>\n",
       "      <td>1</td>\n",
       "      <td>0</td>\n",
       "      <td>2</td>\n",
       "      <td>0</td>\n",
       "      <td>3</td>\n",
       "      <td>1</td>\n",
       "      <td>1</td>\n",
       "      <td>1</td>\n",
       "      <td>0</td>\n",
       "      <td>30</td>\n",
       "      <td>1</td>\n",
       "      <td>1</td>\n",
       "      <td>1</td>\n",
       "      <td>Slight</td>\n",
       "    </tr>\n",
       "  </tbody>\n",
       "</table>\n",
       "</div>"
      ],
      "text/plain": [
       "       1st_Road_Class  Carriageway_Hazards  Junction_Control  Day_of_Week  \\\n",
       "5287                1                    0                 1            0   \n",
       "37794               3                    0                 1            0   \n",
       "4561                1                    0                 2            0   \n",
       "\n",
       "       Junction_Detail Light_Conditions  Road_Surface_Conditions Road_Type  \\\n",
       "5287                 1                0                        1         1   \n",
       "37794                1                1                        2         1   \n",
       "4561                 3                1                        1         1   \n",
       "\n",
       "       Special_Conditions_at_Site  Speed_limit  Time  Urban_or_Rural_Area  \\\n",
       "5287                            0           30     1                    1   \n",
       "37794                           0           30     1                    1   \n",
       "4561                            0           30     1                    1   \n",
       "\n",
       "      Weather_Conditions Accident_Severity  \n",
       "5287                   1            Slight  \n",
       "37794                  1            Slight  \n",
       "4561                   1            Slight  "
      ]
     },
     "execution_count": 35,
     "metadata": {},
     "output_type": "execute_result"
    }
   ],
   "source": [
    "\n",
    "random_subset = df_slight.sample(n=3)\n",
    "random_subset.head()"
   ]
  },
  {
   "cell_type": "code",
   "execution_count": 36,
   "metadata": {},
   "outputs": [
    {
     "data": {
      "text/plain": [
       "Fatal    740\n",
       "Name: Accident_Severity, dtype: int64"
      ]
     },
     "execution_count": 36,
     "metadata": {},
     "output_type": "execute_result"
    }
   ],
   "source": [
    "df_fatal['Accident_Severity'].value_counts()"
   ]
  },
  {
   "cell_type": "code",
   "execution_count": 45,
   "metadata": {},
   "outputs": [],
   "source": [
    "df_slight_sampling = df_slight.sample(n=8937)  \n",
    "#Matched the combined number of records for Fatal and Serious(As we are going to club fatal&serious to Serious)"
   ]
  },
  {
   "cell_type": "code",
   "execution_count": 46,
   "metadata": {},
   "outputs": [],
   "source": [
    "\n",
    "df_serious_sampling = df_serious.sample(n=740)  #Matched number of records with the rarer class "
   ]
  },
  {
   "cell_type": "code",
   "execution_count": 47,
   "metadata": {},
   "outputs": [],
   "source": [
    "df_final_sampling = pd.concat([df_serious_sampling,df_slight_sampling,df_fatal])"
   ]
  },
  {
   "cell_type": "code",
   "execution_count": 48,
   "metadata": {},
   "outputs": [
    {
     "data": {
      "text/html": [
       "<div>\n",
       "<style scoped>\n",
       "    .dataframe tbody tr th:only-of-type {\n",
       "        vertical-align: middle;\n",
       "    }\n",
       "\n",
       "    .dataframe tbody tr th {\n",
       "        vertical-align: top;\n",
       "    }\n",
       "\n",
       "    .dataframe thead th {\n",
       "        text-align: right;\n",
       "    }\n",
       "</style>\n",
       "<table border=\"1\" class=\"dataframe\">\n",
       "  <thead>\n",
       "    <tr style=\"text-align: right;\">\n",
       "      <th></th>\n",
       "      <th>1st_Road_Class</th>\n",
       "      <th>Carriageway_Hazards</th>\n",
       "      <th>Junction_Control</th>\n",
       "      <th>Day_of_Week</th>\n",
       "      <th>Junction_Detail</th>\n",
       "      <th>Light_Conditions</th>\n",
       "      <th>Road_Surface_Conditions</th>\n",
       "      <th>Road_Type</th>\n",
       "      <th>Special_Conditions_at_Site</th>\n",
       "      <th>Speed_limit</th>\n",
       "      <th>Time</th>\n",
       "      <th>Urban_or_Rural_Area</th>\n",
       "      <th>Weather_Conditions</th>\n",
       "      <th>Accident_Severity</th>\n",
       "    </tr>\n",
       "  </thead>\n",
       "  <tbody>\n",
       "    <tr>\n",
       "      <th>24990</th>\n",
       "      <td>2</td>\n",
       "      <td>0</td>\n",
       "      <td>1</td>\n",
       "      <td>0</td>\n",
       "      <td>1</td>\n",
       "      <td>0</td>\n",
       "      <td>1</td>\n",
       "      <td>1</td>\n",
       "      <td>0</td>\n",
       "      <td>30</td>\n",
       "      <td>2</td>\n",
       "      <td>1</td>\n",
       "      <td>1</td>\n",
       "      <td>Serious</td>\n",
       "    </tr>\n",
       "    <tr>\n",
       "      <th>19161</th>\n",
       "      <td>1</td>\n",
       "      <td>0</td>\n",
       "      <td>1</td>\n",
       "      <td>0</td>\n",
       "      <td>1</td>\n",
       "      <td>0</td>\n",
       "      <td>1</td>\n",
       "      <td>1</td>\n",
       "      <td>0</td>\n",
       "      <td>30</td>\n",
       "      <td>2</td>\n",
       "      <td>1</td>\n",
       "      <td>1</td>\n",
       "      <td>Serious</td>\n",
       "    </tr>\n",
       "    <tr>\n",
       "      <th>31570</th>\n",
       "      <td>1</td>\n",
       "      <td>0</td>\n",
       "      <td>1</td>\n",
       "      <td>1</td>\n",
       "      <td>2</td>\n",
       "      <td>0</td>\n",
       "      <td>2</td>\n",
       "      <td>1</td>\n",
       "      <td>0</td>\n",
       "      <td>30</td>\n",
       "      <td>1</td>\n",
       "      <td>1</td>\n",
       "      <td>2</td>\n",
       "      <td>Serious</td>\n",
       "    </tr>\n",
       "    <tr>\n",
       "      <th>47236</th>\n",
       "      <td>3</td>\n",
       "      <td>1</td>\n",
       "      <td>1</td>\n",
       "      <td>1</td>\n",
       "      <td>6</td>\n",
       "      <td>0</td>\n",
       "      <td>1</td>\n",
       "      <td>0</td>\n",
       "      <td>1</td>\n",
       "      <td>30</td>\n",
       "      <td>1</td>\n",
       "      <td>2</td>\n",
       "      <td>1</td>\n",
       "      <td>Serious</td>\n",
       "    </tr>\n",
       "    <tr>\n",
       "      <th>30517</th>\n",
       "      <td>2</td>\n",
       "      <td>0</td>\n",
       "      <td>1</td>\n",
       "      <td>1</td>\n",
       "      <td>2</td>\n",
       "      <td>0</td>\n",
       "      <td>1</td>\n",
       "      <td>1</td>\n",
       "      <td>0</td>\n",
       "      <td>40</td>\n",
       "      <td>1</td>\n",
       "      <td>2</td>\n",
       "      <td>1</td>\n",
       "      <td>Serious</td>\n",
       "    </tr>\n",
       "  </tbody>\n",
       "</table>\n",
       "</div>"
      ],
      "text/plain": [
       "       1st_Road_Class  Carriageway_Hazards  Junction_Control  Day_of_Week  \\\n",
       "24990               2                    0                 1            0   \n",
       "19161               1                    0                 1            0   \n",
       "31570               1                    0                 1            1   \n",
       "47236               3                    1                 1            1   \n",
       "30517               2                    0                 1            1   \n",
       "\n",
       "       Junction_Detail Light_Conditions  Road_Surface_Conditions Road_Type  \\\n",
       "24990                1                0                        1         1   \n",
       "19161                1                0                        1         1   \n",
       "31570                2                0                        2         1   \n",
       "47236                6                0                        1         0   \n",
       "30517                2                0                        1         1   \n",
       "\n",
       "       Special_Conditions_at_Site  Speed_limit  Time  Urban_or_Rural_Area  \\\n",
       "24990                           0           30     2                    1   \n",
       "19161                           0           30     2                    1   \n",
       "31570                           0           30     1                    1   \n",
       "47236                           1           30     1                    2   \n",
       "30517                           0           40     1                    2   \n",
       "\n",
       "      Weather_Conditions Accident_Severity  \n",
       "24990                  1           Serious  \n",
       "19161                  1           Serious  \n",
       "31570                  2           Serious  \n",
       "47236                  1           Serious  \n",
       "30517                  1           Serious  "
      ]
     },
     "execution_count": 48,
     "metadata": {},
     "output_type": "execute_result"
    }
   ],
   "source": [
    "df_final_sampling.head()"
   ]
  },
  {
   "cell_type": "code",
   "execution_count": 49,
   "metadata": {},
   "outputs": [],
   "source": [
    "df_test = df_final_sampling[['Accident_Severity']]"
   ]
  },
  {
   "cell_type": "code",
   "execution_count": 51,
   "metadata": {},
   "outputs": [],
   "source": [
    "df_train = df_final_sampling[['1st_Road_Class','Carriageway_Hazards','Junction_Control','Day_of_Week','Junction_Detail','Light_Conditions','Road_Surface_Conditions','Road_Type','Special_Conditions_at_Site',\n",
    "                              'Speed_limit','Time','Urban_or_Rural_Area','Weather_Conditions']]"
   ]
  },
  {
   "cell_type": "code",
   "execution_count": 52,
   "metadata": {},
   "outputs": [
    {
     "data": {
      "text/plain": [
       "Slight     8937\n",
       "Fatal       740\n",
       "Serious     740\n",
       "Name: Accident_Severity, dtype: int64"
      ]
     },
     "execution_count": 52,
     "metadata": {},
     "output_type": "execute_result"
    }
   ],
   "source": [
    "df_test['Accident_Severity'].value_counts()"
   ]
  },
  {
   "cell_type": "markdown",
   "metadata": {},
   "source": [
    "<h2>results</h2>"
   ]
  },
  {
   "cell_type": "code",
   "execution_count": 53,
   "metadata": {},
   "outputs": [],
   "source": [
    "from sklearn.model_selection import train_test_split\n",
    "X_train, X_test, y_train, y_test = train_test_split(df_train, df_test, test_size=0.2)"
   ]
  },
  {
   "cell_type": "code",
   "execution_count": 54,
   "metadata": {},
   "outputs": [
    {
     "name": "stderr",
     "output_type": "stream",
     "text": [
      "/anaconda3/lib/python3.7/site-packages/ipykernel_launcher.py:5: DataConversionWarning: A column-vector y was passed when a 1d array was expected. Please change the shape of y to (n_samples,), for example using ravel().\n",
      "  \"\"\"\n"
     ]
    },
    {
     "name": "stdout",
     "output_type": "stream",
     "text": [
      "Accuracy: 0.8430902111324377\n",
      "[[  17    3  126]\n",
      " [   9    2  143]\n",
      " [  34   12 1738]]\n",
      "              precision    recall  f1-score   support\n",
      "\n",
      "       Fatal       0.28      0.12      0.17       146\n",
      "     Serious       0.12      0.01      0.02       154\n",
      "      Slight       0.87      0.97      0.92      1784\n",
      "\n",
      "   micro avg       0.84      0.84      0.84      2084\n",
      "   macro avg       0.42      0.37      0.37      2084\n",
      "weighted avg       0.77      0.84      0.80      2084\n",
      "\n"
     ]
    }
   ],
   "source": [
    "from sklearn.ensemble import RandomForestClassifier\n",
    "#class_weight = dict({2:1, 1:15, 0:50})\n",
    "rdf = RandomForestClassifier(n_estimators=300,random_state=35)\n",
    "\n",
    "rdf.fit(X_train,y_train)\n",
    "\n",
    "y_pred=rdf.predict(X_test)\n",
    "\n",
    "#Import scikit-learn metrics module for accuracy calculation\n",
    "from sklearn import metrics\n",
    "# Model Accuracy, how often is the classifier correct?\n",
    "print(\"Accuracy:\",metrics.accuracy_score(y_test, y_pred))\n",
    "\n",
    "from sklearn import metrics\n",
    "from sklearn.metrics import classification_report, confusion_matrix  \n",
    "print(confusion_matrix(y_test, y_pred))  \n",
    "print(classification_report(y_test, y_pred))"
   ]
  },
  {
   "cell_type": "code",
   "execution_count": 55,
   "metadata": {},
   "outputs": [],
   "source": [
    "\n",
    "from sklearn.ensemble import RandomForestClassifier\n",
    "#class_weight = dict({2:1, 1:15, 0:50})\n",
    "rdf = RandomForestClassifier(bootstrap=True,\n",
    "            class_weight=\"balanced_subsample\", \n",
    "            criterion='gini',\n",
    "            max_depth=8, max_features='auto', max_leaf_nodes=None,\n",
    "            min_impurity_decrease=0.0, min_impurity_split=None,\n",
    "            min_samples_leaf=4, min_samples_split=10,\n",
    "            min_weight_fraction_leaf=0.0, n_estimators=300,\n",
    "            oob_score=True,\n",
    "            random_state=35,\n",
    "            verbose=0, warm_start=False)"
   ]
  },
  {
   "cell_type": "code",
   "execution_count": 56,
   "metadata": {},
   "outputs": [
    {
     "name": "stderr",
     "output_type": "stream",
     "text": [
      "/anaconda3/lib/python3.7/site-packages/ipykernel_launcher.py:1: DataConversionWarning: A column-vector y was passed when a 1d array was expected. Please change the shape of y to (n_samples,), for example using ravel().\n",
      "  \"\"\"Entry point for launching an IPython kernel.\n"
     ]
    }
   ],
   "source": [
    "rdf.fit(X_train,y_train)\n",
    "\n",
    "y_pred=rdf.predict(X_test)\n"
   ]
  },
  {
   "cell_type": "code",
   "execution_count": 57,
   "metadata": {},
   "outputs": [
    {
     "name": "stdout",
     "output_type": "stream",
     "text": [
      "Accuracy: 0.5930902111324377\n"
     ]
    }
   ],
   "source": [
    "#Import scikit-learn metrics module for accuracy calculation\n",
    "from sklearn import metrics\n",
    "# Model Accuracy, how often is the classifier correct?\n",
    "print(\"Accuracy:\",metrics.accuracy_score(y_test, y_pred))"
   ]
  },
  {
   "cell_type": "code",
   "execution_count": 58,
   "metadata": {},
   "outputs": [
    {
     "name": "stdout",
     "output_type": "stream",
     "text": [
      "[[  73   24   49]\n",
      " [  52   29   73]\n",
      " [ 343  307 1134]]\n",
      "              precision    recall  f1-score   support\n",
      "\n",
      "       Fatal       0.16      0.50      0.24       146\n",
      "     Serious       0.08      0.19      0.11       154\n",
      "      Slight       0.90      0.64      0.75      1784\n",
      "\n",
      "   micro avg       0.59      0.59      0.59      2084\n",
      "   macro avg       0.38      0.44      0.37      2084\n",
      "weighted avg       0.79      0.59      0.66      2084\n",
      "\n"
     ]
    }
   ],
   "source": [
    "from sklearn import metrics\n",
    "from sklearn.metrics import classification_report, confusion_matrix  \n",
    "print(confusion_matrix(y_test, y_pred))  \n",
    "print(classification_report(y_test, y_pred))"
   ]
  },
  {
   "cell_type": "code",
   "execution_count": 61,
   "metadata": {},
   "outputs": [
    {
     "name": "stdout",
     "output_type": "stream",
     "text": [
      "Requirement already satisfied: xgboost in /anaconda3/lib/python3.7/site-packages (1.2.0)\n",
      "Requirement already satisfied: scipy in /anaconda3/lib/python3.7/site-packages (from xgboost) (1.2.1)\n",
      "Requirement already satisfied: numpy in /anaconda3/lib/python3.7/site-packages (from xgboost) (1.16.2)\n",
      "Note: you may need to restart the kernel to use updated packages.\n"
     ]
    }
   ],
   "source": [
    "pip install xgboost"
   ]
  },
  {
   "cell_type": "code",
   "execution_count": 62,
   "metadata": {},
   "outputs": [
    {
     "ename": "XGBoostError",
     "evalue": "XGBoost Library (libxgboost.dylib) could not be loaded.\nLikely causes:\n  * OpenMP runtime is not installed (vcomp140.dll or libgomp-1.dll for Windows, libomp.dylib for Mac OSX, libgomp.so for Linux and other UNIX-like OSes). Mac OSX users: Run `brew install libomp` to install OpenMP runtime.\n  * You are running 32-bit Python on a 64-bit OS\nError message(s): ['dlopen(/anaconda3/lib/python3.7/site-packages/xgboost/lib/libxgboost.dylib, 6): Library not loaded: /usr/local/opt/libomp/lib/libomp.dylib\\n  Referenced from: /anaconda3/lib/python3.7/site-packages/xgboost/lib/libxgboost.dylib\\n  Reason: image not found']\n",
     "output_type": "error",
     "traceback": [
      "\u001b[0;31m---------------------------------------------------------------------------\u001b[0m",
      "\u001b[0;31mXGBoostError\u001b[0m                              Traceback (most recent call last)",
      "\u001b[0;32m<ipython-input-62-857f314ebf52>\u001b[0m in \u001b[0;36m<module>\u001b[0;34m\u001b[0m\n\u001b[0;32m----> 1\u001b[0;31m \u001b[0;32mfrom\u001b[0m \u001b[0mxgboost\u001b[0m \u001b[0;32mimport\u001b[0m \u001b[0mXGBClassifier\u001b[0m\u001b[0;34m\u001b[0m\u001b[0;34m\u001b[0m\u001b[0m\n\u001b[0m\u001b[1;32m      2\u001b[0m model = XGBClassifier(learning_rate =0.07, n_estimators=300,\n\u001b[1;32m      3\u001b[0m                       \u001b[0mclass_weight\u001b[0m\u001b[0;34m=\u001b[0m\u001b[0;34m\"balanced_subsample\"\u001b[0m\u001b[0;34m,\u001b[0m\u001b[0;34m\u001b[0m\u001b[0;34m\u001b[0m\u001b[0m\n\u001b[1;32m      4\u001b[0m                       \u001b[0mmax_depth\u001b[0m\u001b[0;34m=\u001b[0m\u001b[0;36m8\u001b[0m\u001b[0;34m,\u001b[0m \u001b[0mmin_child_weight\u001b[0m\u001b[0;34m=\u001b[0m\u001b[0;36m1\u001b[0m\u001b[0;34m,\u001b[0m\u001b[0;34m\u001b[0m\u001b[0;34m\u001b[0m\u001b[0m\n\u001b[1;32m      5\u001b[0m                       \u001b[0mscale_pos_weight\u001b[0m\u001b[0;34m=\u001b[0m\u001b[0;36m7\u001b[0m\u001b[0;34m,\u001b[0m\u001b[0;34m\u001b[0m\u001b[0;34m\u001b[0m\u001b[0m\n",
      "\u001b[0;32m/anaconda3/lib/python3.7/site-packages/xgboost/__init__.py\u001b[0m in \u001b[0;36m<module>\u001b[0;34m\u001b[0m\n\u001b[1;32m      7\u001b[0m \u001b[0;32mimport\u001b[0m \u001b[0mos\u001b[0m\u001b[0;34m\u001b[0m\u001b[0;34m\u001b[0m\u001b[0m\n\u001b[1;32m      8\u001b[0m \u001b[0;34m\u001b[0m\u001b[0m\n\u001b[0;32m----> 9\u001b[0;31m \u001b[0;32mfrom\u001b[0m \u001b[0;34m.\u001b[0m\u001b[0mcore\u001b[0m \u001b[0;32mimport\u001b[0m \u001b[0mDMatrix\u001b[0m\u001b[0;34m,\u001b[0m \u001b[0mDeviceQuantileDMatrix\u001b[0m\u001b[0;34m,\u001b[0m \u001b[0mBooster\u001b[0m\u001b[0;34m\u001b[0m\u001b[0;34m\u001b[0m\u001b[0m\n\u001b[0m\u001b[1;32m     10\u001b[0m \u001b[0;32mfrom\u001b[0m \u001b[0;34m.\u001b[0m\u001b[0mtraining\u001b[0m \u001b[0;32mimport\u001b[0m \u001b[0mtrain\u001b[0m\u001b[0;34m,\u001b[0m \u001b[0mcv\u001b[0m\u001b[0;34m\u001b[0m\u001b[0;34m\u001b[0m\u001b[0m\n\u001b[1;32m     11\u001b[0m \u001b[0;32mfrom\u001b[0m \u001b[0;34m.\u001b[0m \u001b[0;32mimport\u001b[0m \u001b[0mrabit\u001b[0m  \u001b[0;31m# noqa\u001b[0m\u001b[0;34m\u001b[0m\u001b[0;34m\u001b[0m\u001b[0m\n",
      "\u001b[0;32m/anaconda3/lib/python3.7/site-packages/xgboost/core.py\u001b[0m in \u001b[0;36m<module>\u001b[0;34m\u001b[0m\n\u001b[1;32m    171\u001b[0m \u001b[0;34m\u001b[0m\u001b[0m\n\u001b[1;32m    172\u001b[0m \u001b[0;31m# load the XGBoost library globally\u001b[0m\u001b[0;34m\u001b[0m\u001b[0;34m\u001b[0m\u001b[0;34m\u001b[0m\u001b[0m\n\u001b[0;32m--> 173\u001b[0;31m \u001b[0m_LIB\u001b[0m \u001b[0;34m=\u001b[0m \u001b[0m_load_lib\u001b[0m\u001b[0;34m(\u001b[0m\u001b[0;34m)\u001b[0m\u001b[0;34m\u001b[0m\u001b[0;34m\u001b[0m\u001b[0m\n\u001b[0m\u001b[1;32m    174\u001b[0m \u001b[0;34m\u001b[0m\u001b[0m\n\u001b[1;32m    175\u001b[0m \u001b[0;34m\u001b[0m\u001b[0m\n",
      "\u001b[0;32m/anaconda3/lib/python3.7/site-packages/xgboost/core.py\u001b[0m in \u001b[0;36m_load_lib\u001b[0;34m()\u001b[0m\n\u001b[1;32m    162\u001b[0m             \u001b[0;34m'`brew install libomp` to install OpenMP runtime.\\n'\u001b[0m \u001b[0;34m+\u001b[0m\u001b[0;34m\u001b[0m\u001b[0;34m\u001b[0m\u001b[0m\n\u001b[1;32m    163\u001b[0m             \u001b[0;34m'  * You are running 32-bit Python on a 64-bit OS\\n'\u001b[0m \u001b[0;34m+\u001b[0m\u001b[0;34m\u001b[0m\u001b[0;34m\u001b[0m\u001b[0m\n\u001b[0;32m--> 164\u001b[0;31m             'Error message(s): {}\\n'.format(os_error_list))\n\u001b[0m\u001b[1;32m    165\u001b[0m     \u001b[0mlib\u001b[0m\u001b[0;34m.\u001b[0m\u001b[0mXGBGetLastError\u001b[0m\u001b[0;34m.\u001b[0m\u001b[0mrestype\u001b[0m \u001b[0;34m=\u001b[0m \u001b[0mctypes\u001b[0m\u001b[0;34m.\u001b[0m\u001b[0mc_char_p\u001b[0m\u001b[0;34m\u001b[0m\u001b[0;34m\u001b[0m\u001b[0m\n\u001b[1;32m    166\u001b[0m     \u001b[0mlib\u001b[0m\u001b[0;34m.\u001b[0m\u001b[0mcallback\u001b[0m \u001b[0;34m=\u001b[0m \u001b[0m_get_log_callback_func\u001b[0m\u001b[0;34m(\u001b[0m\u001b[0;34m)\u001b[0m\u001b[0;34m\u001b[0m\u001b[0;34m\u001b[0m\u001b[0m\n",
      "\u001b[0;31mXGBoostError\u001b[0m: XGBoost Library (libxgboost.dylib) could not be loaded.\nLikely causes:\n  * OpenMP runtime is not installed (vcomp140.dll or libgomp-1.dll for Windows, libomp.dylib for Mac OSX, libgomp.so for Linux and other UNIX-like OSes). Mac OSX users: Run `brew install libomp` to install OpenMP runtime.\n  * You are running 32-bit Python on a 64-bit OS\nError message(s): ['dlopen(/anaconda3/lib/python3.7/site-packages/xgboost/lib/libxgboost.dylib, 6): Library not loaded: /usr/local/opt/libomp/lib/libomp.dylib\\n  Referenced from: /anaconda3/lib/python3.7/site-packages/xgboost/lib/libxgboost.dylib\\n  Reason: image not found']\n"
     ]
    }
   ],
   "source": [
    "from xgboost import XGBClassifier\n",
    "model = XGBClassifier(learning_rate =0.07, n_estimators=300,\n",
    "                      class_weight=\"balanced_subsample\",\n",
    "                      max_depth=8, min_child_weight=1,\n",
    "                      scale_pos_weight=7,\n",
    "                      seed=27,subsample=0.8,colsample_bytree=0.8)\n",
    "\n",
    "model.fit(X_train,y_train)\n",
    "\n",
    "y_pred=model.predict(X_test)\n",
    "\n",
    "print(\"Accuracy:\",metrics.accuracy_score(y_test, y_pred))"
   ]
  },
  {
   "cell_type": "code",
   "execution_count": 63,
   "metadata": {},
   "outputs": [
    {
     "name": "stdout",
     "output_type": "stream",
     "text": [
      "[[  73   24   49]\n",
      " [  52   29   73]\n",
      " [ 343  307 1134]]\n",
      "              precision    recall  f1-score   support\n",
      "\n",
      "       Fatal       0.16      0.50      0.24       146\n",
      "     Serious       0.08      0.19      0.11       154\n",
      "      Slight       0.90      0.64      0.75      1784\n",
      "\n",
      "   micro avg       0.59      0.59      0.59      2084\n",
      "   macro avg       0.38      0.44      0.37      2084\n",
      "weighted avg       0.79      0.59      0.66      2084\n",
      "\n"
     ]
    }
   ],
   "source": [
    "print(confusion_matrix(y_test, y_pred))  \n",
    "print(classification_report(y_test, y_pred))"
   ]
  },
  {
   "cell_type": "code",
   "execution_count": 64,
   "metadata": {},
   "outputs": [
    {
     "name": "stderr",
     "output_type": "stream",
     "text": [
      "/anaconda3/lib/python3.7/site-packages/ipykernel_launcher.py:8: DataConversionWarning: A column-vector y was passed when a 1d array was expected. Please change the shape of y to (n_samples, ), for example using ravel().\n",
      "  \n"
     ]
    },
    {
     "name": "stdout",
     "output_type": "stream",
     "text": [
      "[[  24    6  116]\n",
      " [  17    8  129]\n",
      " [ 109   42 1633]]\n",
      "              precision    recall  f1-score   support\n",
      "\n",
      "       Fatal       0.16      0.16      0.16       146\n",
      "     Serious       0.14      0.05      0.08       154\n",
      "      Slight       0.87      0.92      0.89      1784\n",
      "\n",
      "   micro avg       0.80      0.80      0.80      2084\n",
      "   macro avg       0.39      0.38      0.38      2084\n",
      "weighted avg       0.77      0.80      0.78      2084\n",
      "\n"
     ]
    }
   ],
   "source": [
    "# import the class\n",
    "from sklearn.neighbors import KNeighborsClassifier\n",
    "\n",
    "# instantiate the model (with the default parameters)\n",
    "knn = KNeighborsClassifier(n_neighbors=3,weights='distance')\n",
    "\n",
    "# fit the model with data (occurs in-place)\n",
    "knn.fit(X_train, y_train)\n",
    "\n",
    "y_pred = knn.predict(X_test)\n",
    "\n",
    "print(confusion_matrix(y_test, y_pred))  \n",
    "print(classification_report(y_test, y_pred))"
   ]
  },
  {
   "cell_type": "code",
   "execution_count": 66,
   "metadata": {},
   "outputs": [
    {
     "name": "stdout",
     "output_type": "stream",
     "text": [
      "[[   0    0  146]\n",
      " [   0    0  154]\n",
      " [   0    0 1784]]\n",
      "              precision    recall  f1-score   support\n",
      "\n",
      "       Fatal       0.00      0.00      0.00       146\n",
      "     Serious       0.00      0.00      0.00       154\n",
      "      Slight       0.86      1.00      0.92      1784\n",
      "\n",
      "   micro avg       0.86      0.86      0.86      2084\n",
      "   macro avg       0.29      0.33      0.31      2084\n",
      "weighted avg       0.73      0.86      0.79      2084\n",
      "\n"
     ]
    },
    {
     "name": "stderr",
     "output_type": "stream",
     "text": [
      "/anaconda3/lib/python3.7/site-packages/sklearn/linear_model/logistic.py:433: FutureWarning: Default solver will be changed to 'lbfgs' in 0.22. Specify a solver to silence this warning.\n",
      "  FutureWarning)\n",
      "/anaconda3/lib/python3.7/site-packages/sklearn/utils/validation.py:761: DataConversionWarning: A column-vector y was passed when a 1d array was expected. Please change the shape of y to (n_samples, ), for example using ravel().\n",
      "  y = column_or_1d(y, warn=True)\n",
      "/anaconda3/lib/python3.7/site-packages/sklearn/linear_model/logistic.py:460: FutureWarning: Default multi_class will be changed to 'auto' in 0.22. Specify the multi_class option to silence this warning.\n",
      "  \"this warning.\", FutureWarning)\n",
      "/anaconda3/lib/python3.7/site-packages/sklearn/metrics/classification.py:1143: UndefinedMetricWarning: Precision and F-score are ill-defined and being set to 0.0 in labels with no predicted samples.\n",
      "  'precision', 'predicted', average, warn_for)\n"
     ]
    }
   ],
   "source": [
    "\n",
    "from sklearn.linear_model import LogisticRegression\n",
    "logisticRegr = LogisticRegression()\n",
    "logisticRegr.fit(X_train, y_train)\n",
    "y_pred = logisticRegr.predict(X_test)\n",
    "print(confusion_matrix(y_test, y_pred))  \n",
    "print(classification_report(y_test, y_pred))"
   ]
  },
  {
   "cell_type": "code",
   "execution_count": 67,
   "metadata": {},
   "outputs": [
    {
     "name": "stdout",
     "output_type": "stream",
     "text": [
      "0.7855086372360844\n",
      "              precision    recall  f1-score   support\n",
      "\n",
      "       Fatal       0.16      0.29      0.21       146\n",
      "     Serious       0.00      0.00      0.00       154\n",
      "      Slight       0.87      0.89      0.88      1784\n",
      "\n",
      "   micro avg       0.79      0.79      0.79      2084\n",
      "   macro avg       0.35      0.39      0.36      2084\n",
      "weighted avg       0.76      0.79      0.77      2084\n",
      "\n"
     ]
    },
    {
     "name": "stderr",
     "output_type": "stream",
     "text": [
      "/anaconda3/lib/python3.7/site-packages/sklearn/utils/validation.py:761: DataConversionWarning: A column-vector y was passed when a 1d array was expected. Please change the shape of y to (n_samples, ), for example using ravel().\n",
      "  y = column_or_1d(y, warn=True)\n",
      "/anaconda3/lib/python3.7/site-packages/sklearn/metrics/classification.py:1143: UndefinedMetricWarning: Precision and F-score are ill-defined and being set to 0.0 in labels with no predicted samples.\n",
      "  'precision', 'predicted', average, warn_for)\n"
     ]
    }
   ],
   "source": [
    "from sklearn.naive_bayes import GaussianNB\n",
    "from sklearn.metrics import accuracy_score\n",
    "gnb = GaussianNB()\n",
    "y_pred = gnb.fit(X_train, y_train).predict(X_test)\n",
    "print(accuracy_score(y_test, y_pred))\n",
    "confusion_matrix(y_test, y_pred)\n",
    "print(format(classification_report(y_test, y_pred)))"
   ]
  },
  {
   "cell_type": "code",
   "execution_count": 68,
   "metadata": {},
   "outputs": [
    {
     "name": "stdout",
     "output_type": "stream",
     "text": [
      "              precision    recall  f1-score   support\n",
      "\n",
      "       Fatal       0.00      0.00      0.00       146\n",
      "     Serious       1.00      0.01      0.01       154\n",
      "      Slight       0.86      1.00      0.92      1784\n",
      "\n",
      "   micro avg       0.85      0.85      0.85      2084\n",
      "   macro avg       0.62      0.33      0.31      2084\n",
      "weighted avg       0.81      0.85      0.79      2084\n",
      "\n",
      "0.8546065259117083\n"
     ]
    }
   ],
   "source": [
    "\n",
    "from sklearn.ensemble import GradientBoostingClassifier\n",
    "gbc = GradientBoostingClassifier(loss=\"deviance\", learning_rate=0.1, \n",
    "      n_estimators=100, subsample=1.0, criterion=\"friedman_mse\", \n",
    "      min_samples_split=2, min_samples_leaf=1, min_weight_fraction_leaf=0.0, \n",
    "      max_depth=3, min_impurity_decrease=0.0, min_impurity_split=None, init=None, \n",
    "      random_state=None, max_features=None, verbose=0, max_leaf_nodes=None, warm_start=False, \n",
    "      presort=\"auto\")\n",
    "\n",
    "y_pred = gbc.fit(X_train, y_train.values.ravel()).predict(X_test)\n",
    "print(format(classification_report(y_test, y_pred)))\n",
    "print(accuracy_score(y_test, y_pred))"
   ]
  },
  {
   "cell_type": "markdown",
   "metadata": {},
   "source": [
    "<h2>DISCUSSION</h2>"
   ]
  },
  {
   "cell_type": "markdown",
   "metadata": {},
   "source": [
    "\n",
    "Our main aim was to predict the severity of the accident when it is “serious” and “fatal”. It was very difficult to handle this large-sized data. Using HPC we were able to run most of our algorithms. Data is highly imbalanced so even though most of our algorithms were giving > 89% accuracies, it was of no use. It was predicting all the accidents as slight accidents. After checking on all these algorithms, the team even tried dimensionality reduction techniques and but the results were not improved. Then the team decided to use the undersampled dataset as it was giving better results in predicting the severe/fatal accidents. This decision was made on trying out oversampling, undersampling, test and train data with an equal ratio of classification classes"
   ]
  },
  {
   "cell_type": "markdown",
   "metadata": {},
   "source": [
    "<h2>Conclusion</h2>"
   ]
  },
  {
   "cell_type": "markdown",
   "metadata": {},
   "source": [
    "\n",
    "In conclusion, most of the algorithms are biased towards most frequent class. However, efficient pre-processing and corresponding imbalanced data techniques should give optimal results. Based on the current known conditions of weather, light, traffic signal, road surface, speed limit etc., accident severity can be classified. But there is no one feature, that influences the accident severity."
   ]
  },
  {
   "cell_type": "code",
   "execution_count": null,
   "metadata": {},
   "outputs": [],
   "source": []
  }
 ],
 "metadata": {
  "kernelspec": {
   "display_name": "Python 3",
   "language": "python",
   "name": "python3"
  },
  "language_info": {
   "codemirror_mode": {
    "name": "ipython",
    "version": 3
   },
   "file_extension": ".py",
   "mimetype": "text/x-python",
   "name": "python",
   "nbconvert_exporter": "python",
   "pygments_lexer": "ipython3",
   "version": "3.7.3"
  }
 },
 "nbformat": 4,
 "nbformat_minor": 2
}
