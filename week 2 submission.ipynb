{
 "cells": [
  {
   "cell_type": "markdown",
   "metadata": {},
   "source": [
    "<h1>BUSINESS PROBLEM</h1>"
   ]
  },
  {
   "cell_type": "markdown",
   "metadata": {},
   "source": [
    "> The WHO has stated that approximately 1.35 million people die each year as a result of road traffic crashes and cost most countries 3% of their gross domestic product, most of these are caused by cars.Sparks a BIG CONCERN RIGHT? There can be many reasons for car accidents, ranging from our negligence, weather conditions, the timing and many more.But wont it be great if we already know what can cause an accident? and how severe it could be so that we can avoid them at all costs. These accidents not only cause property damage but sometimes injuries and fatalities too.\n",
    "The motive of my project is to find out the reasons and check how severe they can be.  "
   ]
  },
  {
   "cell_type": "markdown",
   "metadata": {},
   "source": [
    "<h1> DATA </h1>"
   ]
  },
  {
   "cell_type": "markdown",
   "metadata": {},
   "source": [
    ">The Accident dataset chosen has a lot of attributes that tell us about the severity of these accidents like Road_type,Speed_limit,Weather_conditions,Light_conditions,Day_of_Week,Special_Conditions_at_Site and a few others that will help us decide the severity of the accidents. Our predictor variable will be 'Accident_Severity' because it is used measure the severity of an accident from 1 to 3 within the dataset.\n",
    "<ul>\n",
    "<li>1:SLIGHT\n",
    "<li>2:SERIOUS\n",
    "<li>3:FATAL\n",
    "</ul>\n",
    "these codes will decide how severe the accident could be given the conditions"
   ]
  },
  {
   "cell_type": "code",
   "execution_count": null,
   "metadata": {},
   "outputs": [],
   "source": []
  }
 ],
 "metadata": {
  "kernelspec": {
   "display_name": "Python 3",
   "language": "python",
   "name": "python3"
  },
  "language_info": {
   "codemirror_mode": {
    "name": "ipython",
    "version": 3
   },
   "file_extension": ".py",
   "mimetype": "text/x-python",
   "name": "python",
   "nbconvert_exporter": "python",
   "pygments_lexer": "ipython3",
   "version": "3.7.3"
  }
 },
 "nbformat": 4,
 "nbformat_minor": 2
}
